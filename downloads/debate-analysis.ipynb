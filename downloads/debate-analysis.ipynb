{
 "cells": [
  {
   "cell_type": "code",
   "execution_count": 122,
   "metadata": {
    "collapsed": false,
    "nbpresent": {
     "id": "b6f19eeb-e413-4b09-9756-954ca9fcb172"
    }
   },
   "outputs": [
    {
     "name": "stdout",
     "output_type": "stream",
     "text": [
      "got it!\n",
      "all done!\n",
      "273663\n",
      "1 1\n",
      "Anger 0.707551\n",
      "Disgust 0.013022\n",
      "Fear 0.008408\n",
      "Joy 0.143959\n",
      "Sadness 0.126887\n",
      "Analytical 0.656106\n",
      "Confident 0.0\n",
      "Tentative 0.358847\n",
      "Openness 0.672774\n",
      "Conscientiousness 0.906221\n",
      "Extraversion 0.437337\n",
      "Agreeableness 0.745675\n",
      "Emotional Range 0.753191\n",
      "Anger 0.867117\n",
      "Disgust 0.177097\n",
      "Fear 0.003945\n",
      "Joy 0.001648\n",
      "Sadness 0.053968\n",
      "Analytical 0.551394\n",
      "Confident 0.0\n",
      "Tentative 0.021238\n",
      "Openness 0.734923\n",
      "Conscientiousness 0.85196\n",
      "Extraversion 0.556018\n",
      "Agreeableness 0.873003\n",
      "Emotional Range 0.696843\n"
     ]
    }
   ],
   "source": [
    "import urllib.request\n",
    "URL = 'http://www.politico.com/story/2016/10/2016-presidential-debate-transcript-229519'\n",
    "\n",
    "def getWebpage(theURL):\n",
    "    response = urllib.request.urlopen(theURL)\n",
    "    html = response.read()\n",
    "    html = html.decode()\n",
    "    print(\"got it!\")\n",
    "    f = open('debatetext.txt', 'w')\n",
    "    f.write(html)\n",
    "    f.close()\n",
    "    print(\"all done!\")    \n",
    "    \n",
    "getWebpage(URL) \n",
    "\n",
    "#use regular expressions to parse out clinton and trump text and join them into one string\n",
    "import re\n",
    "data = open(r'debatetext.txt','r').read()\n",
    "print(len(data))\n",
    "clinton = re.findall(r'(?<=<b>Clinton<\\/b>:)(.*)(?=</p>)', data, re.MULTILINE)\n",
    "trump = re.findall(r'(?<=<b>Trump<\\/b>:)(.*)(?=</p>)', data, re.MULTILINE)\n",
    "clinton = [''.join(clinton[0:len(clinton)])]\n",
    "trump = [''.join(trump[0:len(trump)])]\n",
    "print(len(clinton), len(trump))\n",
    "\n",
    "#use the Watson API to analyze tone of both candidates\n",
    "import json\n",
    "from watson_developer_cloud import ToneAnalyzerV3\n",
    "tone_analyzer = ToneAnalyzerV3(\n",
    "   username='YOUR_USERNAME',\n",
    "   password='YOUR_PASSWORD',\n",
    "   version='2016-05-19')\n",
    "\n",
    "#retrieve, parse clinton data + push to file\n",
    "clinton = json.dumps(tone_analyzer.tone(text= clinton[0]), indent=2)\n",
    "clinton_parsed = (json.loads(clinton)['document_tone']) #just keeps document tone, no sentences\n",
    "for x in clinton_parsed['tone_categories']:\n",
    "    for y in x['tones']:\n",
    "        print(y['tone_name'], y['score'])\n",
    "        tone= ((y['tone_name'],',', str(y['score'])))\n",
    "        f = open('clintontone.csv','a')\n",
    "        f.write((''.join(tone))+'\\n')\n",
    "        f.close()\n",
    "#retrieve, parse trump data + push to file        \n",
    "trump = json.dumps(tone_analyzer.tone(text= trump[0]), indent=2)\n",
    "trump_parsed = (json.loads(trump)['document_tone']) #just keeps document tone, no sentences\n",
    "for x in trump_parsed['tone_categories']:\n",
    "    for y in x['tones']:\n",
    "        print(y['tone_name'], y['score'])\n",
    "        tone= ((y['tone_name'],',', str(y['score'])))\n",
    "        f = open('trumptone.csv','a')\n",
    "        f.write((''.join(tone))+'\\n')\n",
    "        f.close()           "
   ]
  },
  {
   "cell_type": "code",
   "execution_count": 93,
   "metadata": {
    "collapsed": false,
    "nbpresent": {
     "id": "51a28737-e6ed-4216-a444-974def9fe3ad"
    }
   },
   "outputs": [
    {
     "name": "stdout",
     "output_type": "stream",
     "text": [
      "Brian\n",
      "David\n"
     ]
    }
   ],
   "source": []
  },
  {
   "cell_type": "code",
   "execution_count": 39,
   "metadata": {
    "collapsed": false,
    "nbpresent": {
     "id": "ccb580b5-afcb-46d9-90ac-f1343eb85e41"
    },
    "scrolled": false
   },
   "outputs": [
    {
     "name": "stdout",
     "output_type": "stream",
     "text": [
      "got it!\n",
      "all done!\n",
      "257614\n"
     ]
    },
    {
     "ename": "AttributeError",
     "evalue": "'list' object has no attribute 'group'",
     "output_type": "error",
     "traceback": [
      "\u001b[0;31m---------------------------------------------------------------------------\u001b[0m",
      "\u001b[0;31mAttributeError\u001b[0m                            Traceback (most recent call last)",
      "\u001b[0;32m<ipython-input-39-abdd9232c9e7>\u001b[0m in \u001b[0;36m<module>\u001b[0;34m()\u001b[0m\n\u001b[1;32m     19\u001b[0m \u001b[0mtomatch\u001b[0m \u001b[0;34m=\u001b[0m \u001b[0mre\u001b[0m\u001b[0;34m.\u001b[0m\u001b[0mcompile\u001b[0m\u001b[0;34m(\u001b[0m\u001b[0;34mr'(?<=<b>Clinton<\\/b>:)(.*)(?=</p>)'\u001b[0m\u001b[0;34m,\u001b[0m \u001b[0mre\u001b[0m\u001b[0;34m.\u001b[0m\u001b[0mMULTILINE\u001b[0m\u001b[0;34m)\u001b[0m\u001b[0;34m\u001b[0m\u001b[0m\n\u001b[1;32m     20\u001b[0m \u001b[0mclinton\u001b[0m \u001b[0;34m=\u001b[0m \u001b[0mtomatch\u001b[0m\u001b[0;34m.\u001b[0m\u001b[0mfindall\u001b[0m\u001b[0;34m(\u001b[0m\u001b[0mdata\u001b[0m\u001b[0;34m)\u001b[0m\u001b[0;34m\u001b[0m\u001b[0m\n\u001b[0;32m---> 21\u001b[0;31m \u001b[0mprint\u001b[0m\u001b[0;34m(\u001b[0m\u001b[0mclinton\u001b[0m\u001b[0;34m.\u001b[0m\u001b[0mgroup\u001b[0m\u001b[0;34m(\u001b[0m\u001b[0;36m0\u001b[0m\u001b[0;34m)\u001b[0m\u001b[0;34m)\u001b[0m\u001b[0;34m\u001b[0m\u001b[0m\n\u001b[0m",
      "\u001b[0;31mAttributeError\u001b[0m: 'list' object has no attribute 'group'"
     ]
    }
   ],
   "source": []
  },
  {
   "cell_type": "code",
   "execution_count": null,
   "metadata": {
    "collapsed": true,
    "nbpresent": {
     "id": "baeee9e9-5b80-4b9e-89cf-8585034f244d"
    }
   },
   "outputs": [],
   "source": []
  }
 ],
 "metadata": {
  "kernelspec": {
   "display_name": "Python [Root]",
   "language": "python",
   "name": "Python [Root]"
  },
  "language_info": {
   "codemirror_mode": {
    "name": "ipython",
    "version": 3
   },
   "file_extension": ".py",
   "mimetype": "text/x-python",
   "name": "python",
   "nbconvert_exporter": "python",
   "pygments_lexer": "ipython3",
   "version": "3.5.2"
  },
  "nbpresent": {
   "slides": {},
   "themes": {}
  }
 },
 "nbformat": 4,
 "nbformat_minor": 0
}
